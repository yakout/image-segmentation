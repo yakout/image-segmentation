{
 "cells": [
  {
   "cell_type": "code",
   "execution_count": 1,
   "metadata": {},
   "outputs": [
    {
     "name": "stdout",
     "output_type": "stream",
     "text": [
      "(2, 5, 481, 321, 2)\n",
      "(2, 481, 321, 3)\n"
     ]
    }
   ],
   "source": [
    "from utils import *\n",
    "from k_means import *\n",
    "from image_segmentation import *\n",
    "from metrics import *\n",
    "\n",
    "\n",
    "%matplotlib inline\n",
    "\n",
    "# visualize_image('22090', 'train')\n",
    "\n",
    "\n",
    "X, y = load_images('test', limit=True, max_limit=2)\n",
    "print(y.shape)\n",
    "print(X.shape)\n",
    "# plt.imshow(y[0][0][:, :, 0])\n",
    "    \n",
    "\n",
    "# images = kmeans_segment_images(X, cache=True, load_from_cache=True)\n",
    "# plt.imshow(images[0][1])\n",
    "# print('>')\n",
    "# print(images[0].shape)\n",
    "# plt.imshow(y[0][0][:, :, 1], cmap='Greys_r') # boundries\n",
    "# plt.imshow(y[0][0][:, :, 0])  # segmentation\n",
    "# plt.figure()\n",
    "# plt.axis('off')\n",
    "# plt.imshow(y[0][0][:, :, 1]) # boundries\n",
    "\n",
    "# f = f1_score_single(images[0], y[0][0][:, :, 0])\n",
    "# print('f = {}'.format(f))\n",
    "\n",
    "# ce = conditional_entropy(images[0], y[0][0][:, :, 0])\n",
    "# print('conditional_entropy = {}'.format(ce))\n",
    "\n",
    "# plt.figure()\n",
    "# plt.imshow(y[0][4][:, :, 0])\n",
    "# plt.figure()\n",
    "# plt.imshow(y[0][0][:, :, 0])\n",
    "# for k in range(images.shape[1]):\n",
    "#     plt.figure()\n",
    "#     plt.imshow(images[0, k, :, :])\n",
    "#     print(\" ==================== K = {} =================\".format(k))\n",
    "#     avgs = evaluate_k_means_entropy(images[:, k, :, :], y)\n",
    "#     print(\"average = {} max = {} min = {}\".format(np.average(avgs), np.max(avgs), np.min(avgs)))\n",
    "    \n",
    "#     print(\" ==================== K = {} =================\".format(k))\n",
    "#     f = f1_score_all(images[:, k, :, :], y)\n",
    "#     print(f)\n",
    "\n",
    "\n",
    "\n",
    "# img = np.array(get_image('2092', 'train'))\n",
    "# clusters, _ = segment(img)\n",
    "\n",
    "# seg_image = clusters.reshape((img.shape[0], img.shape[1]))\n",
    "# plt.imshow(seg_image)\n",
    "# plt.axis('off')\n",
    "# plt.savefig(f'./images/test.jpg')\n",
    "\n",
    "# seg_image = np.rot90(seg_image, 2)\n",
    "# seg_image = np.fliplr(seg_image)\n",
    "# xx = np.arange(img.shape[0])\n",
    "# yy = np.arange(img.shape[1])\n",
    "# X, Y = np.meshgrid(yy, xx)\n",
    "\n",
    "# fig = plt.figure()\n",
    "# h = plt.contourf(X, Y, seg_image)\n",
    "# plt.axis('off')\n",
    "# plt.subplots_adjust(top = 1, bottom = 0, right = 1, left = 0, hspace = 0, wspace = 0)\n",
    "# plt.savefig(f'./Images/{i}_{k}.jpg')\n"
   ]
  },
  {
   "cell_type": "code",
   "execution_count": null,
   "metadata": {},
   "outputs": [
    {
     "name": "stderr",
     "output_type": "stream",
     "text": [
      "/anaconda3/envs/cs231n/lib/python3.6/site-packages/skimage/transform/_warps.py:105: UserWarning: The default mode, 'constant', will be changed to 'reflect' in skimage 0.15.\n",
      "  warn(\"The default mode, 'constant', will be changed to 'reflect' in \"\n",
      "/anaconda3/envs/cs231n/lib/python3.6/site-packages/sklearn/manifold/spectral_embedding_.py:234: UserWarning: Graph is not fully connected, spectral embedding may not work as expected.\n",
      "  warnings.warn(\"Graph is not fully connected, spectral embedding\"\n"
     ]
    }
   ],
   "source": [
    "clustered_images = []\n",
    "for i in range(X.shape[0] - 1):\n",
    "    res = spectral_segment(X[i], n_clusters=11)\n",
    "    print(res)\n",
    "    plt.figure()\n",
    "    plt.imshow(X[i])\n",
    "    plt.figure()\n",
    "    plt.imshow(res)\n",
    "    clustered_images.append(res)\n",
    "#     with open(f'./images/spectral_labels_{i}.pkl', 'wb+') as f:\n",
    "#         pickle.dump(clustered_images[-1], f)\n",
    "#     print(f'clustered image {i}')"
   ]
  },
  {
   "cell_type": "code",
   "execution_count": null,
   "metadata": {},
   "outputs": [],
   "source": []
  }
 ],
 "metadata": {
  "kernelspec": {
   "display_name": "Python 3",
   "language": "python",
   "name": "python3"
  },
  "language_info": {
   "codemirror_mode": {
    "name": "ipython",
    "version": 3
   },
   "file_extension": ".py",
   "mimetype": "text/x-python",
   "name": "python",
   "nbconvert_exporter": "python",
   "pygments_lexer": "ipython3",
   "version": "3.6.7"
  }
 },
 "nbformat": 4,
 "nbformat_minor": 2
}
